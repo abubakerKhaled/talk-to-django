{
 "cells": [
  {
   "cell_type": "code",
   "execution_count": 1,
   "id": "a8aeb99e-45bb-4e96-acf6-3c950ec9845d",
   "metadata": {},
   "outputs": [
    {
     "name": "stderr",
     "output_type": "stream",
     "text": [
      "D:\\study\\learning-python\\back-end\\talk-to-django\\venv\\Lib\\site-packages\\sentence_transformers\\cross_encoder\\CrossEncoder.py:13: TqdmExperimentalWarning: Using `tqdm.autonotebook.tqdm` in notebook mode. Use `tqdm.tqdm` instead to force console mode (e.g. in jupyter console)\n",
      "  from tqdm.autonotebook import tqdm, trange\n"
     ]
    }
   ],
   "source": [
    "import numpy as np\n",
    "from sentence_transformers import SentenceTransformer"
   ]
  },
  {
   "cell_type": "code",
   "execution_count": 2,
   "id": "e12b1f88-e78a-42a6-9314-6094be35bebf",
   "metadata": {},
   "outputs": [
    {
     "name": "stderr",
     "output_type": "stream",
     "text": [
      "D:\\study\\learning-python\\back-end\\talk-to-django\\venv\\Lib\\site-packages\\transformers\\tokenization_utils_base.py:1601: FutureWarning: `clean_up_tokenization_spaces` was not set. It will be set to `True` by default. This behavior will be depracted in transformers v4.45, and will be then set to `False` by default. For more details check this issue: https://github.com/huggingface/transformers/issues/31884\n",
      "  warnings.warn(\n"
     ]
    }
   ],
   "source": [
    "# 1. Load a pretrained Sentence Transformer model\n",
    "model = SentenceTransformer(\"all-MiniLM-L6-v2\")"
   ]
  },
  {
   "cell_type": "code",
   "execution_count": 4,
   "id": "101cd0e7-ed53-4707-a368-79d2280a9dc5",
   "metadata": {},
   "outputs": [],
   "source": [
    "## we want to guess what percent match the query is to the data set\n",
    "data = [1, 2, 3, 4, 5, 6, 7, 8]\n",
    "query = 5\n",
    "# query2 = 5.3 is not exactly the five but it is much closer to the five"
   ]
  },
  {
   "cell_type": "code",
   "execution_count": 6,
   "id": "a57ba3d0-95ea-430f-b673-cd2bcef13341",
   "metadata": {},
   "outputs": [],
   "source": [
    "docs = [\n",
    "    \"The dog jumped over the cat\", \n",
    "    \"The cat jumped over the dog\",\n",
    "    \"It is very warm today\",\n",
    "    \"The cat is yellow and the dog is red\",\n",
    "]"
   ]
  },
  {
   "cell_type": "code",
   "execution_count": 7,
   "id": "5b4c4cb4-3bec-4e3d-9a74-d8a0559f9d2a",
   "metadata": {},
   "outputs": [],
   "source": [
    "embeddings = model.encode(docs, clean_up_tokenization_spaces=False)"
   ]
  },
  {
   "cell_type": "code",
   "execution_count": 8,
   "id": "a08d7932-5b44-4048-9c49-e7d544cd714e",
   "metadata": {},
   "outputs": [
    {
     "data": {
      "text/plain": [
       "(4, 384)"
      ]
     },
     "execution_count": 8,
     "metadata": {},
     "output_type": "execute_result"
    }
   ],
   "source": [
    "embeddings.shape"
   ]
  },
  {
   "cell_type": "code",
   "execution_count": 9,
   "id": "8640fd13-bcad-4bb8-888f-55ce0ca77f6b",
   "metadata": {},
   "outputs": [],
   "source": [
    "query = \"The cat is yellow and the dog is purple\""
   ]
  },
  {
   "cell_type": "code",
   "execution_count": 10,
   "id": "44fa9ea9-467a-4146-9f7f-45b753e97ad1",
   "metadata": {},
   "outputs": [
    {
     "data": {
      "text/plain": [
       "tensor([[0.5122],\n",
       "        [0.5164],\n",
       "        [0.0782],\n",
       "        [0.9099]])"
      ]
     },
     "execution_count": 10,
     "metadata": {},
     "output_type": "execute_result"
    }
   ],
   "source": [
    "model.similarity(embeddings, model.encode([query]))"
   ]
  },
  {
   "cell_type": "code",
   "execution_count": null,
   "id": "27dc8647-8ec6-44e5-ba57-8fb87e5bd55f",
   "metadata": {},
   "outputs": [],
   "source": []
  }
 ],
 "metadata": {
  "kernelspec": {
   "display_name": "Python 3 (ipykernel)",
   "language": "python",
   "name": "python3"
  },
  "language_info": {
   "codemirror_mode": {
    "name": "ipython",
    "version": 3
   },
   "file_extension": ".py",
   "mimetype": "text/x-python",
   "name": "python",
   "nbconvert_exporter": "python",
   "pygments_lexer": "ipython3",
   "version": "3.12.3"
  }
 },
 "nbformat": 4,
 "nbformat_minor": 5
}
