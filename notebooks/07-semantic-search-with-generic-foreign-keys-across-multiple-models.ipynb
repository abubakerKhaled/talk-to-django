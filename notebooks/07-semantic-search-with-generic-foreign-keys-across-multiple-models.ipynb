{
 "cells": [
  {
   "cell_type": "code",
   "execution_count": 1,
   "id": "c768324b-ff16-4440-b2e6-4edc9a73bf73",
   "metadata": {},
   "outputs": [
    {
     "name": "stderr",
     "output_type": "stream",
     "text": [
      "D:\\study\\learning-python\\back-end\\talk-to-django\\venv\\Lib\\site-packages\\sentence_transformers\\cross_encoder\\CrossEncoder.py:13: TqdmExperimentalWarning: Using `tqdm.autonotebook.tqdm` in notebook mode. Use `tqdm.tqdm` instead to force console mode (e.g. in jupyter console)\n",
      "  from tqdm.autonotebook import tqdm, trange\n",
      "D:\\study\\learning-python\\back-end\\talk-to-django\\venv\\Lib\\site-packages\\transformers\\tokenization_utils_base.py:1601: FutureWarning: `clean_up_tokenization_spaces` was not set. It will be set to `True` by default. This behavior will be depracted in transformers v4.45, and will be then set to `False` by default. For more details check this issue: https://github.com/huggingface/transformers/issues/31884\n",
      "  warnings.warn(\n"
     ]
    }
   ],
   "source": [
    "import setup\n",
    "setup.init_django()"
   ]
  },
  {
   "cell_type": "code",
   "execution_count": 6,
   "id": "be0acd6d-4bb8-45db-891c-bce4031bf3c5",
   "metadata": {},
   "outputs": [],
   "source": [
    "from sentence_transformers import SentenceTransformer\n",
    "from products.models import Embedding\n",
    "from decouple import config\n",
    "EMEDDING_MODEL=config(\"EMEDDING_MODEL\", default=\"multi-qa-distilbert-cos-v1\")\n",
    "RECREATE_DATA = True"
   ]
  },
  {
   "cell_type": "code",
   "execution_count": 7,
   "id": "10186d6a-f67c-4e90-bc0d-9bc97debf526",
   "metadata": {},
   "outputs": [],
   "source": [
    "model = SentenceTransformer(EMEDDING_MODEL)"
   ]
  },
  {
   "cell_type": "code",
   "execution_count": 8,
   "id": "248c409e-c9d2-4c31-b051-46913bd75325",
   "metadata": {},
   "outputs": [],
   "source": [
    "def get_embedding(text, model=model):\n",
    "    text = text.replace('\\n', ' ').strip()\n",
    "    return model.encode(text)"
   ]
  },
  {
   "cell_type": "code",
   "execution_count": 9,
   "id": "a2d9a53c-24d1-415d-9206-f131d6974103",
   "metadata": {},
   "outputs": [],
   "source": [
    "query = \"The dog jumped over the green cow\"\n",
    "# query = \"The dog jumped over the cat\"\n",
    "query_embedding = get_embedding(query)"
   ]
  },
  {
   "cell_type": "code",
   "execution_count": 12,
   "id": "b87d957a-45d1-464b-9fc6-653d1b7a9187",
   "metadata": {},
   "outputs": [
    {
     "name": "stdout",
     "output_type": "stream",
     "text": [
      "36 36 Blog Post 4 0.5430814811362141 45.691851886378586\n"
     ]
    }
   ],
   "source": [
    "from pgvector.django import CosineDistance\n",
    "from django.db.models import F\n",
    "\n",
    "qs = Embedding.objects.annotate(\n",
    "    distance=CosineDistance('embedding',query_embedding),\n",
    "    similarity=1 - F(\"distance\")\n",
    ").order_by(\"distance\")\n",
    "for obj in qs:\n",
    "    print(obj.object_id, obj.content_object.id, obj.content_object.title, obj.distance, obj.similarity * 100)"
   ]
  },
  {
   "cell_type": "code",
   "execution_count": null,
   "id": "4a01a61d-00f3-483e-8715-3a994270a437",
   "metadata": {},
   "outputs": [],
   "source": []
  }
 ],
 "metadata": {
  "kernelspec": {
   "display_name": "Python 3 (ipykernel)",
   "language": "python",
   "name": "python3"
  },
  "language_info": {
   "codemirror_mode": {
    "name": "ipython",
    "version": 3
   },
   "file_extension": ".py",
   "mimetype": "text/x-python",
   "name": "python",
   "nbconvert_exporter": "python",
   "pygments_lexer": "ipython3",
   "version": "3.12.3"
  }
 },
 "nbformat": 4,
 "nbformat_minor": 5
}
