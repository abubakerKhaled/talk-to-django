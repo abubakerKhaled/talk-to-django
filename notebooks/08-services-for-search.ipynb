{
 "cells": [
  {
   "cell_type": "code",
   "execution_count": 1,
   "id": "3f9ad691-4def-46f1-aaf5-20728b8d3105",
   "metadata": {},
   "outputs": [
    {
     "name": "stderr",
     "output_type": "stream",
     "text": [
      "D:\\study\\learning-python\\back-end\\talk-to-django\\venv\\Lib\\site-packages\\sentence_transformers\\cross_encoder\\CrossEncoder.py:13: TqdmExperimentalWarning: Using `tqdm.autonotebook.tqdm` in notebook mode. Use `tqdm.tqdm` instead to force console mode (e.g. in jupyter console)\n",
      "  from tqdm.autonotebook import tqdm, trange\n",
      "D:\\study\\learning-python\\back-end\\talk-to-django\\venv\\Lib\\site-packages\\transformers\\tokenization_utils_base.py:1601: FutureWarning: `clean_up_tokenization_spaces` was not set. It will be set to `True` by default. This behavior will be depracted in transformers v4.45, and will be then set to `False` by default. For more details check this issue: https://github.com/huggingface/transformers/issues/31884\n",
      "  warnings.warn(\n"
     ]
    }
   ],
   "source": [
    "import setup\n",
    "\n",
    "setup.init_django()"
   ]
  },
  {
   "cell_type": "code",
   "execution_count": 2,
   "id": "a6559183-b82e-4612-b14a-d77d8a96efa9",
   "metadata": {},
   "outputs": [],
   "source": [
    "from blog import services"
   ]
  },
  {
   "cell_type": "code",
   "execution_count": 3,
   "id": "fb59df5a-2a98-4c48-9036-e8f40f63f004",
   "metadata": {},
   "outputs": [],
   "source": [
    "results = services.search_posts(\"This is amazing\")"
   ]
  },
  {
   "cell_type": "code",
   "execution_count": 6,
   "id": "871f0727-7e49-4a37-803f-a3cc1ed89d9f",
   "metadata": {},
   "outputs": [
    {
     "ename": "AttributeError",
     "evalue": "'BlogPost' object has no attribute 'object_id'",
     "output_type": "error",
     "traceback": [
      "\u001b[1;31m---------------------------------------------------------------------------\u001b[0m",
      "\u001b[1;31mAttributeError\u001b[0m                            Traceback (most recent call last)",
      "Cell \u001b[1;32mIn[6], line 2\u001b[0m\n\u001b[0;32m      1\u001b[0m \u001b[38;5;28;01mfor\u001b[39;00m obj \u001b[38;5;129;01min\u001b[39;00m results:\n\u001b[1;32m----> 2\u001b[0m     \u001b[38;5;28mprint\u001b[39m(\u001b[43mobj\u001b[49m\u001b[38;5;241;43m.\u001b[39;49m\u001b[43mobject_id\u001b[49m, obj\u001b[38;5;241m.\u001b[39mcontent_object\u001b[38;5;241m.\u001b[39mid, obj\u001b[38;5;241m.\u001b[39mcontent_object\u001b[38;5;241m.\u001b[39mtitle, obj\u001b[38;5;241m.\u001b[39mdistance, obj\u001b[38;5;241m.\u001b[39msimilarity \u001b[38;5;241m*\u001b[39m \u001b[38;5;241m100\u001b[39m)\n",
      "\u001b[1;31mAttributeError\u001b[0m: 'BlogPost' object has no attribute 'object_id'"
     ]
    }
   ],
   "source": [
    "for obj in results:\n",
    "    print(obj.title, obj.distance, obj.similarity * 100)"
   ]
  },
  {
   "cell_type": "code",
   "execution_count": null,
   "id": "187bb425-cbd2-469e-8439-c44bb2bd1b41",
   "metadata": {},
   "outputs": [],
   "source": []
  }
 ],
 "metadata": {
  "kernelspec": {
   "display_name": "Python 3 (ipykernel)",
   "language": "python",
   "name": "python3"
  },
  "language_info": {
   "codemirror_mode": {
    "name": "ipython",
    "version": 3
   },
   "file_extension": ".py",
   "mimetype": "text/x-python",
   "name": "python",
   "nbconvert_exporter": "python",
   "pygments_lexer": "ipython3",
   "version": "3.12.3"
  }
 },
 "nbformat": 4,
 "nbformat_minor": 5
}
