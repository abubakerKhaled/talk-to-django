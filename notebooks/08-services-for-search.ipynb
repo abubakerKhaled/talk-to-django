{
 "cells": [
  {
   "cell_type": "code",
   "execution_count": 1,
   "id": "3f9ad691-4def-46f1-aaf5-20728b8d3105",
   "metadata": {},
   "outputs": [
    {
     "name": "stderr",
     "output_type": "stream",
     "text": [
      "D:\\study\\learning-python\\back-end\\talk-to-django\\venv\\Lib\\site-packages\\sentence_transformers\\cross_encoder\\CrossEncoder.py:13: TqdmExperimentalWarning: Using `tqdm.autonotebook.tqdm` in notebook mode. Use `tqdm.tqdm` instead to force console mode (e.g. in jupyter console)\n",
      "  from tqdm.autonotebook import tqdm, trange\n",
      "D:\\study\\learning-python\\back-end\\talk-to-django\\venv\\Lib\\site-packages\\transformers\\tokenization_utils_base.py:1601: FutureWarning: `clean_up_tokenization_spaces` was not set. It will be set to `True` by default. This behavior will be depracted in transformers v4.45, and will be then set to `False` by default. For more details check this issue: https://github.com/huggingface/transformers/issues/31884\n",
      "  warnings.warn(\n"
     ]
    }
   ],
   "source": [
    "import setup\n",
    "\n",
    "setup.init_django()"
   ]
  },
  {
   "cell_type": "code",
   "execution_count": 2,
   "id": "a6559183-b82e-4612-b14a-d77d8a96efa9",
   "metadata": {},
   "outputs": [],
   "source": [
    "from blog import services"
   ]
  },
  {
   "cell_type": "code",
   "execution_count": 3,
   "id": "fb59df5a-2a98-4c48-9036-e8f40f63f004",
   "metadata": {},
   "outputs": [],
   "source": [
    "results = services.search_posts(\"This is amazing\")"
   ]
  },
  {
   "cell_type": "code",
   "execution_count": 7,
   "id": "871f0727-7e49-4a37-803f-a3cc1ed89d9f",
   "metadata": {},
   "outputs": [
    {
     "name": "stdout",
     "output_type": "stream",
     "text": [
      "Blog Post 3 0.7093844808615491 29.061551913845086\n",
      "New Blog Post 0.71871567145399 28.128432854601005\n",
      "Blog Post 1 0.8580105772005814 14.198942279941862\n",
      "Blog Post 2 0.8623457119052744 13.765428809472557\n",
      "Blog Post 4 0.9032209469908172 9.677905300918276\n"
     ]
    }
   ],
   "source": [
    "for obj in results:\n",
    "    print(obj.title, obj.distance, obj.similarity * 100)"
   ]
  },
  {
   "cell_type": "code",
   "execution_count": null,
   "id": "187bb425-cbd2-469e-8439-c44bb2bd1b41",
   "metadata": {},
   "outputs": [],
   "source": []
  }
 ],
 "metadata": {
  "kernelspec": {
   "display_name": "Python 3 (ipykernel)",
   "language": "python",
   "name": "python3"
  },
  "language_info": {
   "codemirror_mode": {
    "name": "ipython",
    "version": 3
   },
   "file_extension": ".py",
   "mimetype": "text/x-python",
   "name": "python",
   "nbconvert_exporter": "python",
   "pygments_lexer": "ipython3",
   "version": "3.12.3"
  }
 },
 "nbformat": 4,
 "nbformat_minor": 5
}
