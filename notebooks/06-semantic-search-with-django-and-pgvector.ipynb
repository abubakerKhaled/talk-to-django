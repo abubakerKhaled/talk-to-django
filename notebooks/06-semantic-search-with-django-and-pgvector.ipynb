{
 "cells": [
  {
   "cell_type": "code",
   "execution_count": 1,
   "id": "3f9ad691-4def-46f1-aaf5-20728b8d3105",
   "metadata": {},
   "outputs": [
    {
     "name": "stderr",
     "output_type": "stream",
     "text": [
      "D:\\study\\learning-python\\back-end\\talk-to-django\\venv\\Lib\\site-packages\\sentence_transformers\\cross_encoder\\CrossEncoder.py:13: TqdmExperimentalWarning: Using `tqdm.autonotebook.tqdm` in notebook mode. Use `tqdm.tqdm` instead to force console mode (e.g. in jupyter console)\n",
      "  from tqdm.autonotebook import tqdm, trange\n"
     ]
    }
   ],
   "source": [
    "import setup\n",
    "\n",
    "setup.init_django()"
   ]
  },
  {
   "cell_type": "code",
   "execution_count": 2,
   "id": "c3319816-ad3d-490f-b022-f63f2c4aa9a9",
   "metadata": {},
   "outputs": [],
   "source": [
    "from sentence_transformers import SentenceTransformer\n",
    "from blog.models import BlogPost\n",
    "from decouple import config\n",
    "EMEDDING_MODEL=config(\"EMEDDING_MODEL\", default=\"multi-qa-distilbert-cos-v1\")\n",
    "RECREATE_DATA = True"
   ]
  },
  {
   "cell_type": "code",
   "execution_count": 3,
   "id": "febbc2c8-cab9-4910-857d-067c12a64789",
   "metadata": {},
   "outputs": [],
   "source": [
    "docs = [\n",
    "    \"The dog jumped over the cat\", \n",
    "    \"The cat jumped over the dog\",\n",
    "    \"It is very warm today\",\n",
    "    \"The cat is yellow and the dog is red\",\n",
    "]\n"
   ]
  },
  {
   "cell_type": "code",
   "execution_count": 4,
   "id": "ddaa4ee6-cea1-4f20-a25b-e5d1b99b97fb",
   "metadata": {},
   "outputs": [],
   "source": [
    "new_data = []\n",
    "for i, x in enumerate(docs):\n",
    "    new_data.append(\n",
    "        BlogPost(title=f\"Blog Post {i+1}\", content=x, can_delete=True)\n",
    "    )\n",
    "if RECREATE_DATA:\n",
    "    qs = BlogPost.objects.filter(can_delete=True)\n",
    "    qs.delete()\n",
    "    BlogPost.objects.bulk_create(new_data)"
   ]
  },
  {
   "cell_type": "code",
   "execution_count": 5,
   "id": "1a0f24a3-7408-4a82-ae0b-2dac099bb892",
   "metadata": {},
   "outputs": [
    {
     "name": "stderr",
     "output_type": "stream",
     "text": [
      "D:\\study\\learning-python\\back-end\\talk-to-django\\venv\\Lib\\site-packages\\transformers\\tokenization_utils_base.py:1601: FutureWarning: `clean_up_tokenization_spaces` was not set. It will be set to `True` by default. This behavior will be depracted in transformers v4.45, and will be then set to `False` by default. For more details check this issue: https://github.com/huggingface/transformers/issues/31884\n",
      "  warnings.warn(\n"
     ]
    }
   ],
   "source": [
    "model = SentenceTransformer(EMEDDING_MODEL)"
   ]
  },
  {
   "cell_type": "code",
   "execution_count": 9,
   "id": "7d9e9db5-af66-44c3-a670-4da5749c1c26",
   "metadata": {},
   "outputs": [],
   "source": [
    "def get_embedding(text, model=model):\n",
    "    text = text.replace('\\n', ' ').strip()\n",
    "    return model.encode(text)"
   ]
  },
  {
   "cell_type": "code",
   "execution_count": 10,
   "id": "3fd43761-5e41-40c9-8796-ebe2df437c2e",
   "metadata": {},
   "outputs": [],
   "source": [
    "for obj in qs:\n",
    "    if obj.embedding is None:\n",
    "        obj.embedding = get_embedding(obj.get_embedding_text_raw(), model)\n",
    "        obj.save()"
   ]
  },
  {
   "cell_type": "code",
   "execution_count": 15,
   "id": "4fd35d58-0757-4e86-84c7-5ea881187975",
   "metadata": {},
   "outputs": [],
   "source": [
    "query = \"The dog jumped over the green cow\"\n",
    "# query = \"The dog jumped over the cat\"\n",
    "query_embedding = get_embedding(query)"
   ]
  },
  {
   "cell_type": "code",
   "execution_count": 16,
   "id": "aac64fa8-a8fb-489c-9533-51bcd1ab4116",
   "metadata": {},
   "outputs": [
    {
     "name": "stdout",
     "output_type": "stream",
     "text": [
      "Blog Post 1 0.27111828327178955 72.88817167282104\n",
      "Blog Post 2 0.2754528522491455 72.45471477508545\n",
      "Blog Post 4 0.5430814811362141 45.691851886378586\n",
      "Blog Post 3 0.9220983255388343 7.79016744611657\n"
     ]
    }
   ],
   "source": [
    "from pgvector.django import CosineDistance\n",
    "from django.db.models import F\n",
    "\n",
    "qs = BlogPost.objects.annotate(\n",
    "    distance=CosineDistance('embedding',query_embedding),\n",
    "    similarity=1 - F(\"distance\")\n",
    ").order_by(\"distance\")\n",
    "for obj in qs:\n",
    "    print(obj.title, obj.distance, obj.similarity * 100)"
   ]
  },
  {
   "cell_type": "code",
   "execution_count": null,
   "id": "a4d85209-2fde-488d-916d-a33a9d248a16",
   "metadata": {},
   "outputs": [],
   "source": []
  },
  {
   "cell_type": "code",
   "execution_count": null,
   "id": "15814475-0072-4356-a848-70fe2296fb58",
   "metadata": {},
   "outputs": [],
   "source": []
  }
 ],
 "metadata": {
  "kernelspec": {
   "display_name": "Python 3 (ipykernel)",
   "language": "python",
   "name": "python3"
  },
  "language_info": {
   "codemirror_mode": {
    "name": "ipython",
    "version": 3
   },
   "file_extension": ".py",
   "mimetype": "text/x-python",
   "name": "python",
   "nbconvert_exporter": "python",
   "pygments_lexer": "ipython3",
   "version": "3.12.3"
  }
 },
 "nbformat": 4,
 "nbformat_minor": 5
}
